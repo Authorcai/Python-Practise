{
 "cells": [
  {
   "cell_type": "markdown",
   "metadata": {},
   "source": [
    "##### 一、需要爬取的卖家信息数据"
   ]
  },
  {
   "cell_type": "markdown",
   "metadata": {},
   "source": [
    "###### （一）获取的爬虫内容"
   ]
  },
  {
   "cell_type": "markdown",
   "metadata": {},
   "source": [
    "1. 自我简介，在xianyuSummary中年对卖家个人做一个定义：年龄、性别、来闲鱼多少天、卖出过多少商品、职业；\n",
    "2. \"lastVisitTime\"：连续多少天来过，用来表示投入程度；\n",
    "3. 通过 \"cityUrl\": \"https://fleamarket.taobao.com/wow/z/act/default/localCity?wh_biz=tm&wh_weex=true\",中的true or false分辨是否为同城商品，加一个字段“是否为同城”，内容为是或否\n",
    "4. 把city 和 publishCity都作为字段存储，首先这两个字段分清楚"
   ]
  },
  {
   "cell_type": "markdown",
   "metadata": {},
   "source": [
    "###### （二）核验结果"
   ]
  },
  {
   "cell_type": "markdown",
   "metadata": {},
   "source": [
    "1. 自我简介格式不相同，需要设置分辨函数，表格整理如下：\n",
    "\n",
    "|序号|字段xianyuSummary内容|\n",
    "|:---|:---|\n",
    "|1|\"来闲鱼907天了,卖出过2651件宝贝。现居北京。80后摩羯座男生。贸易行业创始人。喜欢运动。\"|\n",
    "|2|\"来闲鱼1282天了,卖出过8件宝贝。男生。\"|\n",
    "|3|\"来闲鱼326天了,卖出过62件宝贝。女生。自由职业行业创始人。喜欢时尚、运动、音乐、二次元、数码。特讨厌磨叽的人\"|\n",
    "\n",
    "2. lastVisitTImime 是表示连续多少天来过，字段内容为“连续XX天来过”\n",
    "\n",
    "3. cityUrl中的true字段不表示为同城商品，具体校验结果如下：\n",
    "\n",
    "|发布商品地址|cityUrl信息|是否同城（苏州）|\n",
    "|:---|:---|:---:|\n",
    "|沈阳|\"https://fleamarket.taobao.com/wow/z/act/default/localCity?wh_biz=tm&wh_weex=true\"|否|\n",
    "|武汉|\"https://fleamarket.taobao.com/wow/z/act/default/localCity?wh_biz=tm&wh_weex=true\"|否|\n",
    "|深圳|\"https://fleamarket.taobao.com/wow/z/act/default/localCity?wh_biz=tm&wh_weex=true\"|否|\n",
    "|苏州|\"https://fleamarket.taobao.com/wow/z/act/default/localCity?wh_biz=tm&wh_weex=true\"|是|\n",
    "\n",
    "4. city和publishCity均表示商品发布地址，二者的字段内容差别在于（以沈阳为例）：\n",
    "    * city格式为“沈阳”\n",
    "    * pubulishCity格式为“发布于沈阳”"
   ]
  },
  {
   "cell_type": "markdown",
   "metadata": {},
   "source": [
    "##### 二、需要爬取的商品信息数据"
   ]
  },
  {
   "cell_type": "markdown",
   "metadata": {},
   "source": [
    "###### （一）获取的爬虫内容"
   ]
  },
  {
   "cell_type": "markdown",
   "metadata": {},
   "source": [
    "1. 分辨price、originPrice、soldPrice的真实含义，使用手机分辨\n",
    "\n",
    "2. 注意tabData是否是淘宝同款商品信息\n",
    "3. tabData上市时间、品牌、尺码、版型等服装相关的指标，作遍历进行爬取\n",
    "4. title:淘宝同款，做一下印证，确定参数是原始商品的参数（价格、型号等）还是二手商品的参数\n",
    "5. \"transportFee\"字段是否表示邮费\n",
    "6. videoId做一下验证，了解videoId和有无视频的关联，通过对这个字段作判别，记载该参数即可\n",
    "7. browsecount、wantcout、favorcout验证对应点赞、想要、浏览量，用来衡量商品的热度\n",
    "8. item下\"itemStatusStr\": \"在线\",验证是否是在售商品  "
   ]
  },
  {
   "cell_type": "markdown",
   "metadata": {},
   "source": [
    "###### （二）核验结果"
   ]
  },
  {
   "cell_type": "markdown",
   "metadata": {},
   "source": [
    "1. price、originPrice、soldPrice字段表示含义：\n",
    "\n",
    "|商品类型|真实价格|字段名|字段内容|\n",
    "|:---|:---|:---|:---|\n",
    "|非淘宝转卖|10|price|无该字段|\n",
    "|||originPrice|0|\n",
    "|||soldPrice|10|\n",
    "|淘宝转卖|10|price|无该字段|\n",
    "|||originPrice|0|\n",
    "|||soldPrice|10|\n",
    "|自己已卖出的商品|5|price|无该字段|\n",
    "|||originPrice|划线价格|\n",
    "|||soldPrice|5|\n",
    "\n",
    "    * 故总结结果为：\n",
    "    \n",
    "|字段名|字段内容|\n",
    "|:---|:---|\n",
    "|originPrice|划线价格，若设置了划线价格\n",
    "|price|未知\n",
    "|soldPrice|在售价格/已售出价格\n",
    "\n",
    "2. tabData字段（若存在同款商品）：表示淘宝同款商品参数  \n",
    "\n",
    "  \n",
    "3. trackParams（若存在同款商品）：将商品与淘宝同款商品作联结  \n",
    "    * trackParams的item_id是当前闲鱼商品的id\n",
    "    * trackParams的t_item_id是淘宝同款商品的id\n",
    "    * 可使用t_item_id 来获取淘宝商品详情\n",
    "\n",
    "\n",
    "4. title（若存在同款商品）:“淘宝同款产品参数”  \n",
    "\n",
    "\n",
    "5. \"transportFee\"字段：表示邮费\n",
    "\n",
    "|transportFee字段内容|实际情况|\n",
    "|:---|:---|\n",
    "|“0”|包邮|\n",
    "|\"8\"|邮费8块|\n",
    "\n",
    "6. videoId及相关字段（若存在视频）表示视频内容\n",
    "\n",
    "|video-情况|实际情况|\n",
    "|:---|:---|\n",
    "|字段videoPlayInfo存在|videoPlayInfo包含具体的视频信息，包括id、视频url、视频封面|\n",
    "\n",
    "\n",
    "7. browsecount、wantcout、favorcout字段表示含义：价格信息\n",
    "\n",
    "|字段名|代表内容|\n",
    "|:---|:---|\n",
    "|browseCnt|商品浏览次数|\n",
    "|wantCnt|想要商品人数|\n",
    "|favorcnt|超赞人数|\n",
    "\n",
    "8. item下itemStatus字段：表示商品出售状态\n",
    "\n",
    "|商品类型|itemStatus内容|\n",
    "|:---|:---|\n",
    "|在售|”0“|\n",
    "|已卖出|”1“|  \n",
    "\n",
    "9. item下quantity字段：表示商品数量\n",
    "\n",
    "|商品类型|quantity内容|\n",
    "|:---|:---|\n",
    "|在售|具体数量|\n",
    "|已卖出|0|  \n"
   ]
  },
  {
   "cell_type": "markdown",
   "metadata": {},
   "source": [
    "##### 三、最后要注意的内容"
   ]
  },
  {
   "cell_type": "markdown",
   "metadata": {},
   "source": [
    "1. **尝试获取已售出的商品数据**：可以获取\n",
    "2. **尝试\"itemStatus\": \"0\",代表了什么**：0代表在售，1代表已卖出\n",
    "3. **defaultPrice、categoryId和预购从速字段在完成其他信息爬取后进行考虑或讨论**"
   ]
  },
  {
   "cell_type": "code",
   "execution_count": null,
   "metadata": {},
   "outputs": [],
   "source": []
  }
 ],
 "metadata": {
  "kernelspec": {
   "display_name": "Python 3",
   "language": "python",
   "name": "python3"
  },
  "language_info": {
   "codemirror_mode": {
    "name": "ipython",
    "version": 3
   },
   "file_extension": ".py",
   "mimetype": "text/x-python",
   "name": "python",
   "nbconvert_exporter": "python",
   "pygments_lexer": "ipython3",
   "version": "3.7.4"
  },
  "toc": {
   "base_numbering": 1,
   "nav_menu": {},
   "number_sections": true,
   "sideBar": true,
   "skip_h1_title": false,
   "title_cell": "Table of Contents",
   "title_sidebar": "Contents",
   "toc_cell": false,
   "toc_position": {},
   "toc_section_display": true,
   "toc_window_display": false
  }
 },
 "nbformat": 4,
 "nbformat_minor": 2
}
